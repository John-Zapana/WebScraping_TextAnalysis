{
 "cells": [
  {
   "cell_type": "markdown",
   "id": "ac09844f-a5a0-4516-a7a9-f651ce1b539c",
   "metadata": {},
   "source": [
    "# Learning web scraping and text analysis\n",
    "\n",
    "## Part 1: Web Scraping\n",
    "Research and Comparison of Web Scraping Libraries\n",
    "\n",
    "### 1. Scrapy:\n",
    "- Pros:\n",
    "    - Efficient for large-scale scraping due to its asynchronous nature.\n",
    "    - Comprehensive framework with built-in support for handling requests, following links, and storing data.\n",
    "    - Extensive documentation and community support.\n",
    "- Cons:\n",
    "    - Steeper learning curve compared to other libraries.\n",
    "    - Overhead for small projects due to its comprehensive framework.\n",
    "\n",
    "### 2. BeautifulSoup:\n",
    "- Pros:\n",
    "    - Easy to learn and use, especially for beginners.\n",
    "    - Flexible and can be combined with the requests library for fetching pages.\n",
    "    - Suitable for small to medium-sized projects.\n",
    "- Cons:\n",
    "    - Slower than Scrapy for large-scale projects due to its synchronous nature.\n",
    "    - Requires additional libraries for handling requests and browser automation.\n",
    "\n",
    "### Recommendation\n",
    "For this project, **BeautifulSoup** combined with Requests is recommended due to its ease of use within a Jupyter Notebook environment. While it may not be as fast as Scrapy for very large-scale scraping, it is sufficient for collecting 100 pages, especially if the pages are static.\n",
    "\n",
    "### Code Implementation\n",
    "Next, we'll show how to use BeautifulSoup and Requests to scrape data **(Topic: \"machine learning\")** from a subreddit:"
   ]
  },
  {
   "cell_type": "code",
   "execution_count": 76,
   "id": "ce1fade5-066d-4143-b703-9746a5f9a0a6",
   "metadata": {},
   "outputs": [
    {
     "name": "stdout",
     "output_type": "stream",
     "text": [
      "\n",
      "Collected 131 posts in total.\n",
      "\n",
      "                                               title  \\\n",
      "0  [P] Quantum Evolution Kernel (open-source, qua...   \n",
      "1                    [D] ICML reviews release date ?   \n",
      "2  [D]As a machine learning theory researcher, wi...   \n",
      "3                         [P] Online Learning System   \n",
      "4  [D] h2o.init() is taking forever to load in h2...   \n",
      "5  OperationCanceledException on saving ML.Net Mo...   \n",
      "6  [P] Looking for guidance for a project on \"det...   \n",
      "7  [D] Custom ML Framework vs. Open Source for yo...   \n",
      "8  [R] Dynamic parameter estimation of coupled OD...   \n",
      "9  [R] Advice on Training a MLP Generator with Ch...   \n",
      "\n",
      "                                                 url        subreddit  \n",
      "0  https://old.reddit.com/r/MachineLearning/comme...  MachineLearning  \n",
      "1  https://old.reddit.com/r/MachineLearning/comme...  MachineLearning  \n",
      "2  https://old.reddit.com/r/MachineLearning/comme...  MachineLearning  \n",
      "3  https://old.reddit.com/r/MachineLearning/comme...  MachineLearning  \n",
      "4  https://old.reddit.com/r/MachineLearning/comme...  MachineLearning  \n",
      "5  https://old.reddit.com/r/MachineLearning/comme...  MachineLearning  \n",
      "6  https://old.reddit.com/r/MachineLearning/comme...  MachineLearning  \n",
      "7  https://old.reddit.com/r/MachineLearning/comme...  MachineLearning  \n",
      "8  https://old.reddit.com/r/MachineLearning/comme...  MachineLearning  \n",
      "9  https://old.reddit.com/r/MachineLearning/comme...  MachineLearning  \n"
     ]
    }
   ],
   "source": [
    "# Install necessary libraries\n",
    "# %pip install requests beautifulsoup4\n",
    "\n",
    "import requests\n",
    "from bs4 import BeautifulSoup\n",
    "import pandas as pd\n",
    "import time\n",
    "\n",
    "def scrape_subreddit_multiple_keywords(subreddit, topic_keywords, max_posts=100):\n",
    "    base_url = f\"https://old.reddit.com/r/{subreddit}/\"\n",
    "    headers = {\n",
    "        \"User-Agent\": \"Mozilla/5.0\"\n",
    "    }\n",
    "    posts_data = []\n",
    "    next_page_url = base_url\n",
    "    # page_count = 1\n",
    "\n",
    "    # Function to check if an article matches the topic\n",
    "    def matches_topic(title):        \n",
    "        title_lower = title.lower()\n",
    "        for kw in topic_keywords:\n",
    "            if kw.lower() in title_lower:\n",
    "                return True\n",
    "        return False\n",
    "    \n",
    "    while len(posts_data) < max_posts and next_page_url:\n",
    "        # print(f\"Scraping subreddit '{subreddit}', page {page_count} => {next_page_url}\")\n",
    "        response = requests.get(next_page_url, headers=headers)\n",
    "        if response.status_code != 200:\n",
    "            # print(f\"Failed to retrieve page {page_count} from /r/{subreddit}, ending scraping.\")\n",
    "            break\n",
    "\n",
    "        soup = BeautifulSoup(response.text, \"html.parser\")\n",
    "        posts = soup.find_all(\"div\", class_=\"thing\")\n",
    "        \n",
    "        # Extract titles that match any of the keywords\n",
    "        for post in posts:\n",
    "            title_tag = post.find(\"a\", class_=\"title\")\n",
    "            if title_tag:\n",
    "                title = title_tag.get_text(strip=True)\n",
    "                if matches_topic(title):\n",
    "                    post_url = title_tag.get(\"href\") or \"\"\n",
    "                    # If the URL is relative (starts with \"/r/\"), prepend the domain\n",
    "                    if post_url.startswith(\"/r/\"):\n",
    "                        post_url = \"https://old.reddit.com\" + post_url\n",
    "                    \n",
    "                    posts_data.append({\"title\": title, \"url\": post_url or \"\"})\n",
    "                \n",
    "                    if len(posts_data) >= max_posts:\n",
    "                        break\n",
    "\n",
    "        if len(posts_data) >= max_posts:\n",
    "            break\n",
    "    \n",
    "        # Find the link to the next page\n",
    "        next_button = soup.find(\"span\", class_=\"next-button\")\n",
    "        if next_button and next_button.find(\"a\"):\n",
    "            next_page_url = next_button.find(\"a\")[\"href\"]\n",
    "        else:\n",
    "            # print(\"No more pages found for /r/{subreddit}.\")\n",
    "            next_page_url = None\n",
    "    \n",
    "        # page_count += 1\n",
    "        time.sleep(1)  # brief pause to avoid rate-limiting        \n",
    "        \n",
    "    # DataFrame\n",
    "    return pd.DataFrame(posts_data)\n",
    "\n",
    "def scrape_multiple_subreddits(subreddits, topic_keywords, max_posts_per_sub=50):\n",
    "    all_data = []\n",
    "\n",
    "    for sub in subreddits:\n",
    "        df_sub = scrape_subreddit_multiple_keywords(\n",
    "            subreddit=sub,\n",
    "            topic_keywords=topic_keywords,\n",
    "            max_posts=max_posts_per_sub\n",
    "        )\n",
    "        # Tag each row with the corresponding subreddit name\n",
    "        df_sub[\"subreddit\"] = sub\n",
    "        all_data.append(df_sub)\n",
    "\n",
    "    if all_data:\n",
    "        df_combined = pd.concat(all_data, ignore_index=True)\n",
    "    else:\n",
    "        df_combined = pd.DataFrame(columns=[\"title\", \"url\", \"subreddit\"])\n",
    "\n",
    "    return df_combined\n",
    "\n",
    "# Example usage\n",
    "subreddits_to_scrape = [\"MachineLearning\", \"Artificial\", \"DataScience\",\"learnmachinelearning\", \"ArtificialIntelligence\"]\n",
    "keywords = [\"machine\", \"learning\", \"ml\"]\n",
    "max_posts_for_each = 40 # Scrape up to 40 from each subreddit\n",
    "\n",
    "df_results = scrape_multiple_subreddits(subreddits_to_scrape, keywords, max_posts_for_each)\n",
    "\n",
    "print(f\"\\nCollected {len(df_results)} posts in total.\\n\")\n",
    "print(df_results.head(10))"
   ]
  },
  {
   "cell_type": "markdown",
   "id": "e35487eb-a886-4ec7-985e-9b9fe37a672c",
   "metadata": {},
   "source": [
    "## Part 2: Text analysis\n",
    "We'll use two algorithms to analyze the data collected in Part 1. We'll perform **sentiment analysis** and **topic modeling** to generate summaries and importance scores for each article.\n",
    "\n",
    "### 1. Sentiment Analysis\n",
    "- We'll use TextBlob to determine the sentiment of each article's title. This will help assign a positive or negative direction to the importance score.\n",
    "\n",
    "### 2. Topic Modeling\n",
    "- We'll use gensim for LDA (Latent Dirichlet Allocation) to identify topics within the articles.\n",
    "- This can help in summarizing the content and determining its relevance to our chosen topic."
   ]
  },
  {
   "cell_type": "code",
   "execution_count": 78,
   "id": "e9479dd3-bb0b-4fee-bbe8-313d18f52b3e",
   "metadata": {},
   "outputs": [
    {
     "name": "stdout",
     "output_type": "stream",
     "text": [
      "\n",
      "Tabulated Analysis Results:\n",
      "\n",
      "| title                                                                     |   importance_score | sentiment   | topics                              |\n",
      "|:--------------------------------------------------------------------------|-------------------:|:------------|:------------------------------------|\n",
      "| [P] Quantum Evolution Kernel (open-source, quantum-based, graph machin... |                0   | negative    | learning, machine, ai, ml, engineer |\n",
      "| [D] ICML reviews release date ?                                           |                0   | negative    | learning, machine, ai, ml, engineer |\n",
      "| [D]As a machine learning theory researcher, will you still submit pape... |               -7.5 | negative    | learning, machine, ai, ml, engineer |\n",
      "| [P] Online Learning System                                                |                0   | negative    | learning, machine, ai, ml, engineer |\n",
      "| [D] h2o.init() is taking forever to load in h2o AutoML                    |                0   | negative    | learning, machine, ai, ml, engineer |\n",
      "| OperationCanceledException on saving ML.Net Model [R]                     |                0   | negative    | learning, machine, ai, ml, engineer |\n",
      "| [P] Looking for guidance for a project on \"detecting AI generated voic... |                0   | negative    | learning, machine, ai, ml, engineer |\n",
      "| [D] Custom ML Framework vs. Open Source for your team                     |                0   | negative    | learning, machine, ai, ml, engineer |\n",
      "| [R] Dynamic parameter estimation of coupled ODE on time-series data us... |                0   | negative    | learning, machine, ai, ml, engineer |\n",
      "| [R] Advice on Training a MLP Generator with Changing Reward Function f... |                0   | negative    | learning, machine, ai, ml, engineer |\n"
     ]
    }
   ],
   "source": [
    "# Install necessary libraries\n",
    "#!pip install textblob gensim\n",
    "# Ensure stop words are downloaded\n",
    "# nltk.download('stopwords')\n",
    "\n",
    "import pandas as pd\n",
    "from textblob import TextBlob\n",
    "from gensim import corpora, models\n",
    "from wordcloud import WordCloud\n",
    "import matplotlib.pyplot as plt\n",
    "from gensim.parsing.preprocessing import remove_stopwords\n",
    "import nltk\n",
    "import re\n",
    "\n",
    "# Sentiment Analysis\n",
    "def analyze_sentiment(text):\n",
    "    blob = TextBlob(text)\n",
    "    return blob.sentiment.polarity\n",
    "\n",
    "# Preprocess Titles\n",
    "def preprocess_titles(titles):\n",
    "    cleaned_titles = []\n",
    "    for title in titles:\n",
    "        # Remove non-alphanumeric characters\n",
    "        cleaned_title = re.sub(r'\\W+', ' ', title.lower())\n",
    "        # Remove stop words\n",
    "        cleaned_title = remove_stopwords(cleaned_title)\n",
    "        cleaned_titles.append(cleaned_title.split())\n",
    "    return cleaned_titles\n",
    "\n",
    "# Topic Modeling\n",
    "def analyze_topics(titles, num_topics=10):\n",
    "    tokenized_titles = preprocess_titles(titles)\n",
    "    dictionary = corpora.Dictionary(tokenized_titles)\n",
    "    corpus = [dictionary.doc2bow(text) for text in tokenized_titles]\n",
    "    lda_model = models.LdaModel(corpus, num_topics=num_topics, id2word=dictionary, passes=15, random_state=42)\n",
    "    return lda_model\n",
    "\n",
    "# Process Articles\n",
    "def analyze_articles(df):\n",
    "    results = []\n",
    "    titles = df['title'].tolist()\n",
    "    lda_model = analyze_topics(titles)\n",
    "    topics = lda_model.print_topics()\n",
    "    \n",
    "    for _, row in df.iterrows():\n",
    "        title = row['title']\n",
    "        sentiment_score = analyze_sentiment(title)\n",
    "        importance_score = sentiment_score * 10\n",
    "        sentiment = 'positive' if sentiment_score > 0 else 'negative'\n",
    "        \n",
    "        # Simplify topics to show more words\n",
    "        simplified_topics = ', '.join([word.split('*')[1].strip('\"') for word in topics[0][1].split(' + ')[:5]])\n",
    "        \n",
    "        results.append({\n",
    "            'title': title[:70] + '...' if len(title) > 70 else title,  # Truncate for display\n",
    "            'importance_score': importance_score,\n",
    "            'sentiment': sentiment,\n",
    "            'topics': simplified_topics\n",
    "        })\n",
    "    \n",
    "    return pd.DataFrame(results), lda_model\n",
    "\n",
    "# Example Usage\n",
    "# Assuming df_results is your DataFrame from Part 1\n",
    "df_analysis, lda_model = analyze_articles(df_results)\n",
    "\n",
    "# Display Results in a Tabulated Form\n",
    "pd.set_option('display.max_colwidth', 50)  # Limit column width for display\n",
    "print(\"\\nTabulated Analysis Results:\\n\")\n",
    "print(df_analysis[['title', 'importance_score', 'sentiment', 'topics']].head(10).to_markdown(index=False))"
   ]
  },
  {
   "cell_type": "markdown",
   "id": "38054d02-2466-45bc-9ee4-68676cde4721",
   "metadata": {},
   "source": [
    "### Table: Results"
   ]
  },
  {
   "cell_type": "code",
   "execution_count": 80,
   "id": "05a1248c-5df9-4dae-b766-ee323a295dee",
   "metadata": {},
   "outputs": [
    {
     "name": "stdout",
     "output_type": "stream",
     "text": [
      "\n",
      "Summary Table:\n",
      "\n",
      "|   Average Importance Score | Most Common Topics                  |\n",
      "|---------------------------:|:------------------------------------|\n",
      "|                    1.09265 | learning, machine, ai, ml, engineer |\n"
     ]
    }
   ],
   "source": [
    "from collections import Counter\n",
    "\n",
    "average_importance = df_analysis['importance_score'].mean()\n",
    "most_common_topics = Counter(', '.join(df_analysis['topics']).split(', ')).most_common(5)\n",
    "\n",
    "summary_table = pd.DataFrame({\n",
    "    'Average Importance Score': [average_importance],\n",
    "    'Most Common Topics': [', '.join([topic for topic, _ in most_common_topics])]\n",
    "})\n",
    "\n",
    "print(\"\\nSummary Table:\\n\")\n",
    "print(summary_table.to_markdown(index=False))"
   ]
  },
  {
   "cell_type": "markdown",
   "id": "941619be-5098-4f6f-9f68-2fa014d0ca30",
   "metadata": {},
   "source": [
    "### Visualization: Sentiment Distribution"
   ]
  },
  {
   "cell_type": "code",
   "execution_count": 84,
   "id": "c3dc5ab9-fde9-4ccb-976a-c1164055a80d",
   "metadata": {},
   "outputs": [
    {
     "data": {
      "image/png": "[encoded data removed]",
      "text/plain": [
       "<Figure size 1000x500 with 1 Axes>"
      ]
     },
     "metadata": {},
     "output_type": "display_data"
    }
   ],
   "source": [
    "plt.figure(figsize=(10, 5))\n",
    "df_analysis['importance_score'].hist(bins=20, color='skyblue', edgecolor='black')\n",
    "plt.title('Distribution of Importance Scores')\n",
    "plt.xlabel('Importance Score')\n",
    "plt.ylabel('Frequency')\n",
    "plt.grid(False)\n",
    "plt.show()"
   ]
  },
  {
   "cell_type": "markdown",
   "id": "07d4b3c0-8406-4ded-8f6e-2b731ae4a531",
   "metadata": {},
   "source": [
    "### Visualization: Topic Prevalence"
   ]
  },
  {
   "cell_type": "code",
   "execution_count": 87,
   "id": "851cb920-3cd1-494f-ae15-6e3727798e46",
   "metadata": {},
   "outputs": [
    {
     "data": {
      "image/png": "[encoded data removed]",
      "text/plain": [
       "<Figure size 1000x500 with 1 Axes>"
      ]
     },
     "metadata": {},
     "output_type": "display_data"
    }
   ],
   "source": [
    "topics, counts = zip(*most_common_topics)\n",
    "plt.figure(figsize=(10, 5))\n",
    "plt.bar(topics, counts, color='lightgreen', edgecolor='black')\n",
    "plt.title('Most Common Topics')\n",
    "plt.xlabel('Topics')\n",
    "plt.ylabel('Frequency')\n",
    "plt.show()"
   ]
  },
  {
   "cell_type": "markdown",
   "id": "42051596-94e6-4281-bbea-e3eb48210c5a",
   "metadata": {},
   "source": [
    "## Summary\n",
    "\n",
    "### Part 1: Web Scraping\n",
    "- **Objective:**  \n",
    "The goal was to collect at least 100 articles or pages on a specific topic from public sites.\n",
    "- **Methodology:**  \n",
    "We used `BeautifulSoup` and `Requests` to scrape titles and URLs from multiple subreddits related to machine learning and AI.\n",
    "- **Outcome:**  \n",
    "Successfully collected 129 titles, focusing on topics like machine learning, AI, and data science.\n",
    "\n",
    "### Part 2: Text Analysis\n",
    "- **Objective:**  \n",
    "Analyze the collected titles to extract sentiment and thematic insights.\n",
    "- **Sentiment Analysis**\n",
    "    - **Average Importance Score:** Approximately 1.09, indicating a slight positive sentiment.  \n",
    "    - **Distribution:** Most titles had neutral sentiment, with scores clustering around zero.\n",
    "- **Topic Modeling**\n",
    "    - **Common Topics:** \"Learning,\" \"machine,\" \"AI,\" \"ML,\" and \"engineer\" were identified as key themes.  \n",
    "    - **Prevalence:** These topics were consistently present across the dataset, highlighting a focus on technology and innovation.\n",
    "\n",
    "## Conclusion\n",
    "- The Assignment effectively demonstrated the use of web scraping and text analysis to gather and interpret data from online sources. The neutral sentiment trend and the emphasis on machine learning and AI topics reflect the dataset's focus on technology. These insights can inform content strategy, research focus, or further exploration in related fields.\n",
    "- The approach showcased the power of combining data collection with analytical techniques to derive meaningful insights from textual data."
   ]
  },
  {
   "cell_type": "code",
   "execution_count": null,
   "id": "34a92dc9-361a-4961-874d-355b76a61dfa",
   "metadata": {},
   "outputs": [],
   "source": []
  }
 ],
 "metadata": {
  "kernelspec": {
   "display_name": "Python [conda env:base] *",
   "language": "python",
   "name": "conda-base-py"
  },
  "language_info": {
   "codemirror_mode": {
    "name": "ipython",
    "version": 3
   },
   "file_extension": ".py",
   "mimetype": "text/x-python",
   "name": "python",
   "nbconvert_exporter": "python",
   "pygments_lexer": "ipython3",
   "version": "3.11.9"
  }
 },
 "nbformat": 4,
 "nbformat_minor": 5
}
